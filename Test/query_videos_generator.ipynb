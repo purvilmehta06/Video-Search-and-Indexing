{
  "nbformat": 4,
  "nbformat_minor": 0,
  "metadata": {
    "colab": {
      "provenance": []
    },
    "kernelspec": {
      "name": "python3",
      "display_name": "Python 3"
    },
    "language_info": {
      "name": "python"
    }
  },
  "cells": [
    {
      "cell_type": "markdown",
      "source": [
        "#### Import statements"
      ],
      "metadata": {
        "id": "Kb7T8yFkGwOZ"
      }
    },
    {
      "cell_type": "code",
      "source": [
        "from PIL import Image\n",
        "import struct\n",
        "import os\n",
        "import random\n",
        "import numpy as np\n",
        "import time"
      ],
      "metadata": {
        "id": "B6viPlNT0CJK"
      },
      "execution_count": null,
      "outputs": []
    },
    {
      "cell_type": "markdown",
      "source": [
        "#### Connect to drive"
      ],
      "metadata": {
        "id": "2Z-dS1WRG2tV"
      }
    },
    {
      "cell_type": "code",
      "source": [
        "from google.colab import drive\n",
        "drive.mount('/content/drive', force_remount=True)"
      ],
      "metadata": {
        "id": "2Z71uaY-0Le7"
      },
      "execution_count": null,
      "outputs": []
    },
    {
      "cell_type": "markdown",
      "source": [
        "#### Height and with of frames"
      ],
      "metadata": {
        "id": "OE-gcWlOG8Iq"
      }
    },
    {
      "cell_type": "code",
      "source": [
        "width = 352\n",
        "height = 288"
      ],
      "metadata": {
        "id": "197E7TcO0MZI"
      },
      "execution_count": null,
      "outputs": []
    },
    {
      "cell_type": "markdown",
      "source": [
        "#### Create directories if not already existing."
      ],
      "metadata": {
        "id": "lT2cevYnG_1P"
      }
    },
    {
      "cell_type": "code",
      "source": [
        "os.makedirs(\"drive/MyDrive/CSCI576\", exist_ok=True)\n",
        "os.makedirs(\"drive/MyDrive/CSCI576/Project\", exist_ok=True)\n",
        "os.makedirs(\"drive/MyDrive/CSCI576/Project/QueryFiles\", exist_ok=True)"
      ],
      "metadata": {
        "id": "gBol7ATJ0NU9"
      },
      "execution_count": null,
      "outputs": []
    },
    {
      "cell_type": "markdown",
      "source": [
        "#### Add paths for original video rgb files folder, preprocessed rgb files folder and the output folder where query videos are generated."
      ],
      "metadata": {
        "id": "NJBNrgPHHDxF"
      }
    },
    {
      "cell_type": "code",
      "source": [
        "input_folder = \"drive/MyDrive/576_final_PA/Videos/RGB_Files/\"\n",
        "preprocess_folder = \"drive/MyDrive/CSCI576/Project/Preprosessing/\"\n",
        "output_folder = \"drive/MyDrive/CSCI576/Project/QueryFiles/\""
      ],
      "metadata": {
        "id": "OybvUqT70UGm"
      },
      "execution_count": null,
      "outputs": []
    },
    {
      "cell_type": "markdown",
      "source": [
        "#### Helper functions to generate query test videos"
      ],
      "metadata": {
        "id": "3fX7oTOVHNoi"
      }
    },
    {
      "cell_type": "code",
      "execution_count": null,
      "metadata": {
        "id": "CB6lNW970Bh8"
      },
      "outputs": [],
      "source": [
        "# Append bytes to query rgb file\n",
        "def append_to_rgb_file(output_file_path, data):\n",
        "    with open(output_file_path, \"ab\") as file:\n",
        "        file.write(bytes(data))\n",
        "\n",
        "# Get number of frames in the video -> which is equivalent to the length of pre-processed RGB files\n",
        "def get_file_length(file_name):\n",
        "    count = 0\n",
        "    with open(file_name, 'r') as file:\n",
        "        for line in file:\n",
        "          count+=1\n",
        "    return count\n",
        "\n",
        "# Generate query video given the input video rgb, start and end frame numbers to be included in query and the path where query video should be saved\n",
        "def generate_query_video(file_path, start_frame_number, end_frame_number, output_file_path):\n",
        "    with open(file_path, 'rb') as file:\n",
        "      current_frame_count = 0\n",
        "\n",
        "      # Skip frames in batches of 500 to get to start frame\n",
        "      while current_frame_count+500 < start_frame_number:\n",
        "        file.read(width*height*3*500)\n",
        "        current_frame_count += 500\n",
        "\n",
        "      # Skip frames in batches of 1 to get to start frame\n",
        "      while current_frame_count < start_frame_number:\n",
        "        file.read(width*height*3)\n",
        "        current_frame_count += 1\n",
        "\n",
        "      image_array = []\n",
        "      pixel_count = 0\n",
        "      try:\n",
        "        while True:\n",
        "            # Unpack R,G,B bytes and convert them int\n",
        "            r = struct.unpack('B', file.read(1))[0]\n",
        "            g = struct.unpack('B', file.read(1))[0]\n",
        "            b = struct.unpack('B', file.read(1))[0]\n",
        "\n",
        "            image_array.append(r)\n",
        "            image_array.append(g)\n",
        "            image_array.append(b)\n",
        "\n",
        "            pixel_count += 1\n",
        "\n",
        "            # If a frame is constructed, increament frame count\n",
        "            if pixel_count % (width * height) == 0:\n",
        "                current_frame_count += 1\n",
        "                pixel_count = 0\n",
        "                if (current_frame_count > end_frame_number):\n",
        "                    break\n",
        "      except Exception as e:\n",
        "        # Handle expection as if the read reaches last byte EOF is only available to be read\n",
        "        print(f\"An unexpected error occurred: {e}\")\n",
        "      append_to_rgb_file(output_file_path, image_array)\n",
        "\n",
        "# Add frame lengths to a dictionary\n",
        "frame_length = {}\n",
        "\n",
        "for filename in os.listdir(preprocess_folder):\n",
        "    input_file_path = os.path.join(preprocess_folder, filename)\n",
        "    frame_length[filename[:-4]] = get_file_length(input_file_path)"
      ]
    },
    {
      "cell_type": "markdown",
      "source": [
        "#### Code pieces to generate query videos"
      ],
      "metadata": {
        "id": "w3wzyNmCIk05"
      }
    },
    {
      "cell_type": "code",
      "source": [
        "# Generate query videos starting at first frame\n",
        "\n",
        "max_frames = 600\n",
        "start_frame_number = 0\n",
        "\n",
        "for filename in os.listdir(input_folder):\n",
        "    print(\"****************************************************************************************\")\n",
        "    print(\"Processing: \", filename)\n",
        "    input_file_path = os.path.join(input_folder, filename)\n",
        "    # Assign start frame number as 0\n",
        "    random_frame_number = start_frame_number\n",
        "    output_file_name = filename[:-4] + \"_\" + str(random_frame_number) + \"_\" + str(max_frames) + \".rgb\"\n",
        "    print(\"Output file: \", output_file_name)\n",
        "    output_file_path = os.path.join(output_folder, output_file_name)\n",
        "    if (os.path.exists(output_file_path)):\n",
        "        os.remove(output_file_path)\n",
        "    generate_query_video(input_file_path, random_frame_number, random_frame_number + max_frames, output_file_path)"
      ],
      "metadata": {
        "id": "ezJWKy8_0bPY"
      },
      "execution_count": null,
      "outputs": []
    },
    {
      "cell_type": "code",
      "source": [
        "# Generate query videos consisting of last 20 seconds of original video\n",
        "\n",
        "max_frames = 600\n",
        "\n",
        "for filename in os.listdir(input_folder):\n",
        "    print(\"****************************************************************************************\")\n",
        "    print(\"Processing: \", filename)\n",
        "    input_file_path = os.path.join(input_folder, filename)\n",
        "    random_frame_number = frame_length[filename[:-4]] - max_frames\n",
        "    output_file_name = filename[:-4] + \"_\" + str(random_frame_number) + \"_\" + str(max_frames) + \".rgb\"\n",
        "    print(\"Output file: \", output_file_name)\n",
        "    output_file_path = os.path.join(output_folder, output_file_name)\n",
        "    if (os.path.exists(output_file_path)):\n",
        "        os.remove(output_file_path)\n",
        "    generate_query_video(input_file_path, random_frame_number, random_frame_number + max_frames, output_file_path)"
      ],
      "metadata": {
        "id": "KmCpQAZh0fOg"
      },
      "execution_count": null,
      "outputs": []
    },
    {
      "cell_type": "code",
      "source": [
        "# Generate query videos frome a random frame\n",
        "\n",
        "max_frames = 600\n",
        "\n",
        "for filename in os.listdir(input_folder):\n",
        "    print(\"****************************************************************************************\")\n",
        "    print(\"Processing: \", filename)\n",
        "    input_file_path = os.path.join(input_folder, filename)\n",
        "    random_frame_number = random.randint(1, frame_length[filename[:-4]] - max_frames)\n",
        "    output_file_name = filename[:-4] + \"_\" + str(random_frame_number) + \"_\" + str(max_frames) + \".rgb\"\n",
        "    print(\"Output file: \", output_file_name)\n",
        "    output_file_path = os.path.join(output_folder, output_file_name)\n",
        "    if (os.path.exists(output_file_path)):\n",
        "        os.remove(output_file_path)\n",
        "    generate_query_video(input_file_path, random_frame_number, random_frame_number + max_frames, output_file_path)"
      ],
      "metadata": {
        "id": "THEOhm1I0rNG"
      },
      "execution_count": null,
      "outputs": []
    }
  ]
}