{
  "nbformat": 4,
  "nbformat_minor": 0,
  "metadata": {
    "colab": {
      "provenance": []
    },
    "kernelspec": {
      "name": "python3",
      "display_name": "Python 3"
    },
    "language_info": {
      "name": "python"
    }
  },
  "cells": [
    {
      "cell_type": "markdown",
      "source": [
        "#### Import statements"
      ],
      "metadata": {
        "id": "_24Yq3bcdtKl"
      }
    },
    {
      "cell_type": "code",
      "execution_count": null,
      "metadata": {
        "id": "zoKdQX2qyTPI"
      },
      "outputs": [],
      "source": [
        "from PIL import Image\n",
        "import struct\n",
        "import os\n",
        "import random\n",
        "import numpy as np\n",
        "import time"
      ]
    },
    {
      "cell_type": "markdown",
      "source": [
        "#### Connect to drive"
      ],
      "metadata": {
        "id": "SRvxk6WGdxxo"
      }
    },
    {
      "cell_type": "code",
      "source": [
        "from google.colab import drive\n",
        "drive.mount('/content/drive', force_remount=True)"
      ],
      "metadata": {
        "id": "f4ZBkvDzyVxl"
      },
      "execution_count": null,
      "outputs": []
    },
    {
      "cell_type": "markdown",
      "source": [
        "#### Height and with of frames"
      ],
      "metadata": {
        "id": "lyReV0Jcdzzx"
      }
    },
    {
      "cell_type": "code",
      "source": [
        "width = 352\n",
        "height = 288"
      ],
      "metadata": {
        "id": "O3qQzL18yWwJ"
      },
      "execution_count": null,
      "outputs": []
    },
    {
      "cell_type": "markdown",
      "source": [
        "#### Add paths for original video rgb files folder and preprocessed rgb files folder where query videos are generated."
      ],
      "metadata": {
        "id": "SCRaf_zFd1-D"
      }
    },
    {
      "cell_type": "code",
      "source": [
        "input_folder = \"drive/MyDrive/576_final_PA/Videos/RGB_Files/\"\n",
        "output_folder = \"drive/MyDrive/CSCI576/Project/QueryFiles/\""
      ],
      "metadata": {
        "id": "7yjLnW2cyX4j"
      },
      "execution_count": null,
      "outputs": []
    },
    {
      "cell_type": "markdown",
      "source": [
        "#### Helper functions to find pixel mis-match between original video RGB and query video RGB files"
      ],
      "metadata": {
        "id": "IWXh8Fp9d4qT"
      }
    },
    {
      "cell_type": "code",
      "source": [
        "# Mismatch\n",
        "\n",
        "def check_for_mismatch(video_path, start_frame_number, query_path):\n",
        "    with open(video_path, 'rb') as file1, open(query_path, 'rb') as file2:\n",
        "      current_frame_count = 0\n",
        "\n",
        "      # Skip frames in batches of 500 to get to start frame in the video RGB file\n",
        "      while current_frame_count+500 < start_frame_number:\n",
        "        file1.read(width*height*3*500)\n",
        "        current_frame_count += 500\n",
        "\n",
        "      # Skip frames in batches of 1 to get to start frame in the video RGB file\n",
        "      while current_frame_count < start_frame_number:\n",
        "        file1.read(width*height*3)\n",
        "        current_frame_count += 1\n",
        "\n",
        "      try:\n",
        "        while True:\n",
        "\n",
        "            # Extract red, green and blue values from the original video\n",
        "            rv = struct.unpack('B', file1.read(1))[0]\n",
        "            gv = struct.unpack('B', file1.read(1))[0]\n",
        "            bv = struct.unpack('B', file1.read(1))[0]\n",
        "\n",
        "            # Extract red, green and blue values from the query video\n",
        "            rq = struct.unpack('B', file2.read(1))[0]\n",
        "            gq = struct.unpack('B', file2.read(1))[0]\n",
        "            bq = struct.unpack('B', file2.read(1))[0]\n",
        "\n",
        "            # If red pixel for original video and query video are not equal, print the mismatch at the frame count and pixel count in the original video\n",
        "            if rv != rq:\n",
        "                print(\"Diff found in red at frame: \", current_frame_count, \" pixel: \", pixel_count)\n",
        "                break\n",
        "            # If blue pixel for original video and query video are not equal, print the mismatch at the frame count and pixel count in the original video\n",
        "            if bv != bq:\n",
        "                print(\"Diff found in blue at frame: \", current_frame_count, \" pixel: \", pixel_count)\n",
        "                break\n",
        "            # If green pixel for original video and query video are not equal, print the mismatch at the frame count and pixel count in the original video\n",
        "            if gv != gq:\n",
        "                print(\"Diff found in green at frame: \", current_frame_count, \" pixel: \", pixel_count)\n",
        "                break\n",
        "\n",
        "            pixel_count += 1\n",
        "            if pixel_count % (width * height) == 0:\n",
        "                current_frame_count += 1\n",
        "                pixel_count = 0\n",
        "      except Exception as e:\n",
        "        print(f\"An unexpected error occurred: {e}\")\n",
        "\n",
        "# Add original video and query file paths below\n",
        "video_file_path = os.path.join(input_folder, \"video1.rgb\")\n",
        "query_file_path = os.path.join(output_folder, \"video1_22978_600.rgb\")\n",
        "check_for_mismatch(video_file_path, 22978, query_file_path)"
      ],
      "metadata": {
        "id": "3oJmDoWIyavo"
      },
      "execution_count": null,
      "outputs": []
    }
  ]
}