{
  "nbformat": 4,
  "nbformat_minor": 0,
  "metadata": {
    "colab": {
      "provenance": []
    },
    "kernelspec": {
      "name": "python3",
      "display_name": "Python 3"
    },
    "language_info": {
      "name": "python"
    }
  },
  "cells": [
    {
      "cell_type": "markdown",
      "source": [
        "#### Import statements"
      ],
      "metadata": {
        "id": "OS7ZnYIBcR3A"
      }
    },
    {
      "cell_type": "code",
      "execution_count": null,
      "metadata": {
        "id": "lhEZi5oNysiC"
      },
      "outputs": [],
      "source": [
        "from PIL import Image\n",
        "import struct\n",
        "import os\n",
        "import random\n",
        "import numpy as np\n",
        "import time"
      ]
    },
    {
      "cell_type": "markdown",
      "source": [
        "#### Connect to drive"
      ],
      "metadata": {
        "id": "mmnY92xdcTGg"
      }
    },
    {
      "cell_type": "code",
      "source": [
        "from google.colab import drive\n",
        "drive.mount('/content/drive', force_remount=True)"
      ],
      "metadata": {
        "id": "fI5ZO40gytwy"
      },
      "execution_count": null,
      "outputs": []
    },
    {
      "cell_type": "markdown",
      "source": [
        "#### Height and with of frames"
      ],
      "metadata": {
        "id": "51LpBRDGcWGc"
      }
    },
    {
      "cell_type": "code",
      "source": [
        "width = 352\n",
        "height = 288"
      ],
      "metadata": {
        "id": "Ip8DMAcFyw1q"
      },
      "execution_count": null,
      "outputs": []
    },
    {
      "cell_type": "markdown",
      "source": [
        "#### Create directories if not already existing."
      ],
      "metadata": {
        "id": "_lXA8fGvcYaQ"
      }
    },
    {
      "cell_type": "code",
      "source": [
        "os.makedirs(\"drive/MyDrive/CSCI576\", exist_ok=True)\n",
        "os.makedirs(\"drive/MyDrive/CSCI576/Project\", exist_ok=True)\n",
        "os.makedirs(\"drive/MyDrive/CSCI576/Project/Preprosessing\", exist_ok=True)"
      ],
      "metadata": {
        "id": "33Py8BCIyx43"
      },
      "execution_count": null,
      "outputs": []
    },
    {
      "cell_type": "markdown",
      "source": [
        "#### Add paths for original video rgb files folder and preprocessed rgb files folder where query videos are generated."
      ],
      "metadata": {
        "id": "QUf6n7P6cbnQ"
      }
    },
    {
      "cell_type": "code",
      "source": [
        "input_folder = \"drive/MyDrive/576_final_PA/Videos/RGB_Files/\"\n",
        "preprocess_folder = \"drive/MyDrive/CSCI576/Project/Preprosessing/\""
      ],
      "metadata": {
        "id": "2W_w78W3yzWh"
      },
      "execution_count": null,
      "outputs": []
    },
    {
      "cell_type": "markdown",
      "source": [
        "#### Helper functions to generate query test videos"
      ],
      "metadata": {
        "id": "hImwPx-GciI2"
      }
    },
    {
      "cell_type": "code",
      "source": [
        "# Append RGB sum values to txt file\n",
        "def append_to_file(output_file_path, data_to_append):\n",
        "    with open(output_file_path, 'a') as file:\n",
        "        file.write(data_to_append)\n",
        "\n",
        "# Read from the file_path RGB file and write sum of RGB values to output_file_path file\n",
        "def read_rgb_file(file_path, output_file_path):\n",
        "    with open(file_path, 'rb') as file:\n",
        "      sr, sg, sb = 0, 0, 0\n",
        "      pixel_count = 0\n",
        "      count = 0\n",
        "      while True:\n",
        "            sr += struct.unpack('B', file.read(1))[0]\n",
        "            sg += struct.unpack('B', file.read(1))[0]\n",
        "            sb += struct.unpack('B', file.read(1))[0]\n",
        "\n",
        "            pixel_count += 1\n",
        "            if pixel_count % (width * height) == 0:\n",
        "                count += 1\n",
        "                append_to_file(output_file_path, str(sr) + \" \" + str(sg) + \" \" + str(sb) + \"\\n\")\n",
        "                sr, sg, sb = 0, 0, 0\n",
        "                if count % 1000 == 0:\n",
        "                    print(\"Processed \", count, \" frames\")\n",
        "\n",
        "# Iterate over all the original RGB files and preprocesses them to store RGB sum values in a txt file\n",
        "for filename in os.listdir(input_folder):\n",
        "    print(\"****************************************************************************************\")\n",
        "    print(\"Processing: \", filename)\n",
        "    input_file_path = os.path.join(input_folder, filename)\n",
        "    preprocess_file_name = filename[:-4] + \".txt\"\n",
        "    preprocess_file_path = os.path.join(preprocess_folder, preprocess_file_name)\n",
        "    if (os.path.exists(preprocess_file_path)):\n",
        "        os.remove(preprocess_file_path)\n",
        "    read_rgb_file(input_file_path, preprocess_file_path)"
      ],
      "metadata": {
        "id": "5BsNs08vyz0v"
      },
      "execution_count": null,
      "outputs": []
    }
  ]
}