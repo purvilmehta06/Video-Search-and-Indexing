{
  "cells": [
    {
      "cell_type": "markdown",
      "metadata": {
        "id": "OS7ZnYIBcR3A"
      },
      "source": [
        "#### Import statements"
      ]
    },
    {
      "cell_type": "code",
      "execution_count": null,
      "metadata": {
        "id": "lhEZi5oNysiC"
      },
      "outputs": [],
      "source": [
        "from PIL import Image\n",
        "import struct\n",
        "import os\n",
        "import random\n",
        "import numpy as np\n",
        "import time"
      ]
    },
    {
      "cell_type": "markdown",
      "metadata": {
        "id": "mmnY92xdcTGg"
      },
      "source": [
        "#### Connect to drive"
      ]
    },
    {
      "cell_type": "code",
      "execution_count": null,
      "metadata": {
        "id": "fI5ZO40gytwy"
      },
      "outputs": [],
      "source": [
        "from google.colab import drive\n",
        "drive.mount('/content/drive', force_remount=True)"
      ]
    },
    {
      "cell_type": "markdown",
      "metadata": {
        "id": "51LpBRDGcWGc"
      },
      "source": [
        "#### Height and with of frames"
      ]
    },
    {
      "cell_type": "code",
      "execution_count": null,
      "metadata": {
        "id": "Ip8DMAcFyw1q"
      },
      "outputs": [],
      "source": [
        "width = 352\n",
        "height = 288"
      ]
    },
    {
      "cell_type": "markdown",
      "metadata": {
        "id": "_lXA8fGvcYaQ"
      },
      "source": [
        "#### Create directories if not already existing."
      ]
    },
    {
      "cell_type": "code",
      "execution_count": null,
      "metadata": {
        "id": "33Py8BCIyx43"
      },
      "outputs": [],
      "source": [
        "os.makedirs(\"drive/MyDrive/CSCI576\", exist_ok=True)\n",
        "os.makedirs(\"drive/MyDrive/CSCI576/Project\", exist_ok=True)\n",
        "os.makedirs(\"drive/MyDrive/CSCI576/Project/Preprosessing\", exist_ok=True)"
      ]
    },
    {
      "cell_type": "markdown",
      "metadata": {
        "id": "QUf6n7P6cbnQ"
      },
      "source": [
        "#### Add paths for original video rgb files folder and preprocessed rgb files folder where query videos are generated."
      ]
    },
    {
      "cell_type": "code",
      "execution_count": null,
      "metadata": {
        "id": "2W_w78W3yzWh"
      },
      "outputs": [],
      "source": [
        "input_folder = \"drive/MyDrive/576_final_PA/Videos/RGB_Files/\"\n",
        "preprocess_folder = \"drive/MyDrive/CSCI576/Project/Preprosessing/\""
      ]
    },
    {
      "attachments": {},
      "cell_type": "markdown",
      "metadata": {
        "id": "hImwPx-GciI2"
      },
      "source": [
        "#### Helper functions to pre-process RGB files"
      ]
    },
    {
      "cell_type": "code",
      "execution_count": null,
      "metadata": {
        "id": "5BsNs08vyz0v"
      },
      "outputs": [],
      "source": [
        "# Append RGB sum values to txt file\n",
        "def append_to_file(output_file_path, data_to_append):\n",
        "    with open(output_file_path, 'a') as file:\n",
        "        file.write(data_to_append)\n",
        "\n",
        "# Read from the file_path RGB file and write sum of RGB values to output_file_path file\n",
        "def read_rgb_file(file_path, output_file_path):\n",
        "    with open(file_path, 'rb') as file:\n",
        "      sr, sg, sb = 0, 0, 0\n",
        "      pixel_count = 0\n",
        "      count = 0\n",
        "      while True:\n",
        "            # Add red, green and blue values to the sum variables \n",
        "            sr += struct.unpack('B', file.read(1))[0]\n",
        "            sg += struct.unpack('B', file.read(1))[0]\n",
        "            sb += struct.unpack('B', file.read(1))[0]\n",
        "\n",
        "            pixel_count += 1\n",
        "            # If the pixel count is equal to the number of pixels per frame then append the sum to txt file and reset the sum variables\n",
        "            if pixel_count % (width * height) == 0:\n",
        "                count += 1\n",
        "                append_to_file(output_file_path, str(sr) + \" \" + str(sg) + \" \" + str(sb) + \"\\n\")\n",
        "                sr, sg, sb = 0, 0, 0\n",
        "                if count % 1000 == 0:\n",
        "                    print(\"Processed \", count, \" frames\")\n",
        "\n",
        "# Iterate over all the original RGB files and preprocesses them to store RGB sum values in a txt file\n",
        "for filename in os.listdir(input_folder):\n",
        "    print(\"****************************************************************************************\")\n",
        "    print(\"Processing: \", filename)\n",
        "    input_file_path = os.path.join(input_folder, filename)\n",
        "    preprocess_file_name = filename[:-4] + \".txt\"\n",
        "    preprocess_file_path = os.path.join(preprocess_folder, preprocess_file_name)\n",
        "    if (os.path.exists(preprocess_file_path)):\n",
        "        os.remove(preprocess_file_path)\n",
        "    read_rgb_file(input_file_path, preprocess_file_path)"
      ]
    }
  ],
  "metadata": {
    "colab": {
      "provenance": []
    },
    "kernelspec": {
      "display_name": "Python 3",
      "name": "python3"
    },
    "language_info": {
      "name": "python"
    }
  },
  "nbformat": 4,
  "nbformat_minor": 0
}
